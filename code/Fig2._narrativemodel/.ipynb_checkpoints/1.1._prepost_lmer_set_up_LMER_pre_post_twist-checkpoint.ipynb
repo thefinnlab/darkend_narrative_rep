{
 "cells": [
  {
   "cell_type": "markdown",
   "id": "11e78a99",
   "metadata": {},
   "source": [
    "#### The goal of this script is to split up the intraSC values into the pre and post-twist segments and then set them up for comparison in an LMER"
   ]
  },
  {
   "cell_type": "code",
   "execution_count": 8,
   "id": "8e994445",
   "metadata": {},
   "outputs": [],
   "source": [
    "import numpy as np\n",
    "import pandas as pd\n",
    "import os\n",
    "import tqdm"
   ]
  },
  {
   "cell_type": "code",
   "execution_count": 16,
   "id": "d5553a72",
   "metadata": {},
   "outputs": [
    {
     "name": "stderr",
     "output_type": "stream",
     "text": [
      "100%|██████████| 102/102 [00:21<00:00,  4.75it/s]\n"
     ]
    }
   ],
   "source": [
    "timepoints_cut_off = 20\n",
    "timepoints_cut_off_end = 10\n",
    "stim_end = 1107\n",
    "HRF = 4\n",
    "pre_twist = 552 \n",
    "post_twist = 752 \n",
    "\n",
    "node = 1\n",
    "sub_corr_reint = np.load(f'../../../darkend/data/_multivariate_intraSC/intraSC_pattern_all_node{node}_pearsonr.npy',allow_pickle=True).item()\n",
    "\n",
    "sub_list = []\n",
    "r_val = []\n",
    "node_list = []\n",
    "label = []\n",
    "\n",
    "nodes = list(range(1,101)) + ['hippocampus_L','hippocampus_R']\n",
    "for node in tqdm.tqdm(nodes):\n",
    "    #print(\"Doing node {} of {}...\".format(node, len(nodes)), end =\" \")\n",
    "    sub_corr_reint = np.load(f'../../../darkend/data/_multivariate_intraSC/intraSC_pattern_all_node{node}_pearsonr.npy',allow_pickle=True).item()\n",
    "\n",
    "    \n",
    "    for sub in range(len(sub_corr_reint.keys())):\n",
    "        \n",
    "        pretwist_this_sub = sub_corr_reint[sub][timepoints_cut_off:pre_twist]\n",
    "        posttwist_this_sub = sub_corr_reint[sub][post_twist:stim_end]\n",
    "        \n",
    "        sub_list.append(sub)\n",
    "        r_val.append(np.median(pretwist_this_sub))\n",
    "        label.append('pre')\n",
    "        node_list.append(node)\n",
    "        \n",
    "        sub_list.append(sub)\n",
    "        r_val.append(np.median(posttwist_this_sub))\n",
    "        label.append('post')\n",
    "        node_list.append(node) #for both pre and post twist\n",
    "    \n",
    "\n"
   ]
  },
  {
   "cell_type": "code",
   "execution_count": null,
   "id": "ba65d5c6",
   "metadata": {},
   "outputs": [],
   "source": [
    "\n",
    "pre_post = pd.DataFrame()\n",
    "pre_post['node'] = node_list\n",
    "pre_post['sub'] = sub_list\n",
    "pre_post['r'] = r_val\n",
    "pre_post['label'] = label\n",
    "\n",
    "pre_post"
   ]
  },
  {
   "cell_type": "code",
   "execution_count": 16,
   "id": "625afaab",
   "metadata": {},
   "outputs": [],
   "source": [
    "pre_post.to_csv('1.2._pre_post_for_LME_all_subcortical_new.csv')"
   ]
  },
  {
   "cell_type": "code",
   "execution_count": null,
   "id": "603f4c87",
   "metadata": {},
   "outputs": [],
   "source": []
  },
  {
   "cell_type": "code",
   "execution_count": null,
   "id": "0cbde0eb",
   "metadata": {},
   "outputs": [],
   "source": []
  },
  {
   "cell_type": "code",
   "execution_count": null,
   "id": "958cdeb2",
   "metadata": {},
   "outputs": [],
   "source": []
  },
  {
   "cell_type": "code",
   "execution_count": null,
   "id": "2596d21b",
   "metadata": {},
   "outputs": [],
   "source": []
  }
 ],
 "metadata": {
  "kernelspec": {
   "display_name": "brainiak_py37",
   "language": "python",
   "name": "brainiak_py37"
  },
  "language_info": {
   "codemirror_mode": {
    "name": "ipython",
    "version": 3
   },
   "file_extension": ".py",
   "mimetype": "text/x-python",
   "name": "python",
   "nbconvert_exporter": "python",
   "pygments_lexer": "ipython3",
   "version": "3.7.12"
  }
 },
 "nbformat": 4,
 "nbformat_minor": 5
}
