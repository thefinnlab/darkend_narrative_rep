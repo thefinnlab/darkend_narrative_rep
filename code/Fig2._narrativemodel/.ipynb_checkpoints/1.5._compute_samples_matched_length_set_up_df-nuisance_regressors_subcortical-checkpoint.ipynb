{
 "cells": [
  {
   "cell_type": "markdown",
   "metadata": {},
   "source": [
    "### The goal of this code is to generate the matched length iterations of the pre and post-twist segments"
   ]
  },
  {
   "cell_type": "code",
   "execution_count": 4,
   "metadata": {},
   "outputs": [],
   "source": [
    "import pandas as pd\n",
    "import numpy as np\n",
    "import os"
   ]
  },
  {
   "cell_type": "code",
   "execution_count": 5,
   "metadata": {},
   "outputs": [],
   "source": [
    "timepoints_cut_off = 20\n",
    "timepoints_cut_off_end = 10\n",
    "stim_end = 1107 #because it is 1105 seconds + 2 seconds!\n",
    "pre_twist = 552 \n",
    "post_twist = 752\n",
    "\n",
    "node = 1\n",
    "sub = 0\n",
    "sub_corr_reint = np.load(f'../../../darkend/data/_multivariate_intraSC/intraSC_pattern_all_node{node}_pearsonr.npy',allow_pickle=True).item()\n",
    "\n",
    "pre_length = len(sub_corr_reint[sub][timepoints_cut_off:pre_twist])\n",
    "post_length = len(sub_corr_reint[sub][post_twist:])\n"
   ]
  },
  {
   "cell_type": "code",
   "execution_count": 6,
   "metadata": {},
   "outputs": [],
   "source": [
    "\n",
    "nodes = list(range(1,101)) + ['hippocampus_L','hippocampus_R']\n",
    "node = nodes[0]\n",
    "    "
   ]
  },
  {
   "cell_type": "code",
   "execution_count": null,
   "metadata": {},
   "outputs": [
    {
     "name": "stdout",
     "output_type": "stream",
     "text": [
      "Number of possible iterations: 178\n"
     ]
    }
   ],
   "source": [
    "\n",
    "sub_list = []\n",
    "r_val = []\n",
    "node_list = []\n",
    "iteration_list = []\n",
    "label = []\n",
    "\n",
    "node = nodes[0]\n",
    "sub_corr_reint = np.load(f'../../../darkend/data/_multivariate_intraSC/intraSC_pattern_all_node{node}_pearsonr.npy', allow_pickle=True).item()\n",
    "sample_pretwist = sub_corr_reint[0][timepoints_cut_off:pre_twist]\n",
    "sample_posttwist = sub_corr_reint[0][post_twist:stim_end]\n",
    "\n",
    "pre_length = len(sample_pretwist)\n",
    "post_length = len(sample_posttwist)\n",
    "\n",
    "# Calculate the number of possible iterations\n",
    "num_iterations = pre_length - post_length + 1\n",
    "print(f\"Number of possible iterations: {num_iterations}\")\n",
    "\n",
    "# Iterate through nodes\n",
    "for node in nodes:\n",
    "    sub_corr_reint = np.load(f'../../../darkend/data/_multivariate_intraSC/intraSC_pattern_all_node{node}_pearsonr.npy', allow_pickle=True).item()\n",
    "    \n",
    "    for sub in range(len(sub_corr_reint.keys())):\n",
    "        pretwist_this_sub = sub_corr_reint[sub][timepoints_cut_off:pre_twist]\n",
    "        posttwist_this_sub = sub_corr_reint[sub][post_twist:stim_end]\n",
    "        \n",
    "        for i in range(num_iterations):\n",
    "            pre_segment = pretwist_this_sub[i:i + post_length]\n",
    "            post_segment = posttwist_this_sub\n",
    "            \n",
    "            # Append results for pre-twist\n",
    "            sub_list.append(sub)\n",
    "            r_val.append(np.median(pre_segment))\n",
    "            node_list.append(node)\n",
    "            iteration_list.append(i + 1)  # Iteration number\n",
    "            label.append('pre')\n",
    "            \n",
    "            # Append results for post-twist (same iteration)\n",
    "            sub_list.append(sub)\n",
    "            r_val.append(np.median(post_segment))\n",
    "            node_list.append(node)\n",
    "            iteration_list.append(i + 1)  # Iteration number\n",
    "            label.append('post')\n",
    "\n",
    "# Create DataFrame\n",
    "results_df = pd.DataFrame({\n",
    "    'Node': node_list,\n",
    "    'Subject': sub_list,\n",
    "    'Iteration': iteration_list,\n",
    "    'Median_R_Value': r_val,\n",
    "    'Label': label\n",
    "})\n",
    "\n",
    "results_df \n"
   ]
  },
  {
   "cell_type": "code",
   "execution_count": 29,
   "metadata": {},
   "outputs": [
    {
     "name": "stdout",
     "output_type": "stream",
     "text": [
      "                  Node  Subject  Iteration  Median_R_Value Label\n",
      "0                    1        0          1       -0.000791   pre\n",
      "1                    1        0          1       -0.013929  post\n",
      "2                    1        0          2       -0.000791   pre\n",
      "3                    1        0          2       -0.013929  post\n",
      "4                    1        0          3       -0.000299   pre\n",
      "...                ...      ...        ...             ...   ...\n",
      "1307227  hippocampus_R       35        176       -0.006649  post\n",
      "1307228  hippocampus_R       35        177       -0.021841   pre\n",
      "1307229  hippocampus_R       35        177       -0.006649  post\n",
      "1307230  hippocampus_R       35        178       -0.021841   pre\n",
      "1307231  hippocampus_R       35        178       -0.006649  post\n",
      "\n",
      "[1307232 rows x 5 columns]\n"
     ]
    }
   ],
   "source": [
    "results_df.to_csv('1.6._pretwist_posttwist_matched_length_median_segments_subcortical_new.csv', index=False)\n"
   ]
  },
  {
   "cell_type": "code",
   "execution_count": null,
   "metadata": {},
   "outputs": [],
   "source": []
  }
 ],
 "metadata": {
  "kernelspec": {
   "display_name": "brainiak_py37",
   "language": "python",
   "name": "brainiak_py37"
  },
  "language_info": {
   "codemirror_mode": {
    "name": "ipython",
    "version": 3
   },
   "file_extension": ".py",
   "mimetype": "text/x-python",
   "name": "python",
   "nbconvert_exporter": "python",
   "pygments_lexer": "ipython3",
   "version": "3.7.9"
  }
 },
 "nbformat": 4,
 "nbformat_minor": 5
}
